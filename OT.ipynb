{
  "cells": [
    {
      "cell_type": "markdown",
      "metadata": {
        "id": "view-in-github",
        "colab_type": "text"
      },
      "source": [
        "<a href=\"https://colab.research.google.com/github/tannghia1234/ML231/blob/main/OT.ipynb\" target=\"_parent\"><img src=\"https://colab.research.google.com/assets/colab-badge.svg\" alt=\"Open In Colab\"/></a>"
      ]
    },
    {
      "cell_type": "code",
      "source": [
        "import cv2\n",
        "import torch\n",
        "import numpy as np\n",
        "from deep_sort_realtime.deepsort_tracker import DeepSort\n",
        "from ultralytics import YOLO\n",
        "\n",
        "path = r\"D:\\data\\HBD21 dataset\\Original_dataset\\Sabotage_violence\\sabotage_violence (47).mp4\"\n",
        "conf_threshold = 0.5\n",
        "tracking_class = 0\n",
        "\n",
        "tracker = DeepSort(max_age = 5)\n",
        "model = YOLO(\"yolov8n.pt\")\n",
        "tracks = []\n",
        "cap = cv2.VideoCapture(path)\n",
        "while True:\n",
        "    ret,frame = cap.read()\n",
        "    if not ret:\n",
        "        break\n",
        "    results = model(frame)\n",
        "    detect = []\n",
        "    for data in results[0].boxes.data.tolist():\n",
        "        confidence = data[4]\n",
        "\n",
        "        if float(confidence) < conf_threshold:\n",
        "            continue\n",
        "\n",
        "        xmin, ymin, xmax, ymax = int(data[0]), int(data[1]), int(data[2]), int(data[3])\n",
        "        class_id = int(data[5])\n",
        "\n",
        "        detect.append([[xmin, ymin, xmax - xmin, ymax - ymin], confidence, class_id])\n",
        "    tracks = tracker.update_tracks(detect,frame=frame)\n",
        "    for track in tracks:\n",
        "        if track.is_confirmed():\n",
        "            track_id= track.track_id\n",
        "            ltrb = track.to_ltrb()\n",
        "            class_id = track.get_det_class()\n",
        "            x1,y1,x2,y2 = map(int,ltrb)\n",
        "            label = f\"person-{track_id}\"\n",
        "            cv2.rectangle(frame, (x1, y1), (x2, y2), GREEN, 2)\n",
        "            cv2.rectangle(frame, (x1-1, y1 - 20), (x1 + len(label)*12, y1), GREEN, -1)\n",
        "            cv2.putText(frame, label, (xmin + 5, ymin - 8), cv2.FONT_HERSHEY_SIMPLEX, 0.5, WHITE, 2)\n",
        "    cv2.imshow(\"Frame\", frame)\n",
        "    cv2.waitKey(0)\n",
        "    if cv2.waitKey(1) == ord(\"q\"):\n",
        "        break\n",
        "\n",
        "video_cap.release()\n",
        "writer.release()\n",
        "cv2.destroyAllWindows()\n",
        "\n",
        "\n",
        "\n",
        "\n",
        "\n",
        "\n"
      ],
      "metadata": {
        "id": "L0KQQ9aNiKbm"
      },
      "execution_count": null,
      "outputs": []
    }
  ],
  "metadata": {
    "colab": {
      "machine_shape": "hm",
      "provenance": [],
      "authorship_tag": "ABX9TyMU7IYpHQ3Fth2HDJpyue/z",
      "include_colab_link": true
    },
    "kernelspec": {
      "display_name": "Python 3",
      "name": "python3"
    },
    "language_info": {
      "name": "python"
    }
  },
  "nbformat": 4,
  "nbformat_minor": 0
}